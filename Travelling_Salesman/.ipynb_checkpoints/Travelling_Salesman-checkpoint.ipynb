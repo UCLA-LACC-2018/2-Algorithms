{
 "cells": [
  {
   "cell_type": "markdown",
   "metadata": {},
   "source": [
    "# Travelling Salesman Mini Project\n",
    "\n",
    "In this mini project, we will implement a good algorithm to reduce the cost of Mr.Obama(or some other important person)'s trip."
   ]
  },
  {
   "cell_type": "markdown",
   "metadata": {},
   "source": [
    "Again, first load the modules we'll need."
   ]
  },
  {
   "cell_type": "code",
   "execution_count": 1,
   "metadata": {},
   "outputs": [],
   "source": [
    "from tools import *\n",
    "import sys\n",
    "import re\n",
    "import speedy\n",
    "\n",
    "#Reload modules automatically so that we don't need to restart the notebook\n",
    "%load_ext autoreload\n",
    "%autoreload 2"
   ]
  },
  {
   "cell_type": "markdown",
   "metadata": {},
   "source": [
    "Initializations and file loading"
   ]
  },
  {
   "cell_type": "code",
   "execution_count": 2,
   "metadata": {},
   "outputs": [
    {
     "name": "stdout",
     "output_type": "stream",
     "text": [
      "Opening location file usa.loc\n",
      "Finished reading location file\n"
     ]
    }
   ],
   "source": [
    "m = world()\n",
    "# load the map\n",
    "m.read_locations('usa.loc')\n",
    "\n",
    "# locations \n",
    "places = list(m.locations.values())"
   ]
  },
  {
   "cell_type": "markdown",
   "metadata": {},
   "source": [
    "Implement the speedyTrip() function in speedy.py. Then test our algorithms in the code below:"
   ]
  },
  {
   "cell_type": "code",
   "execution_count": 3,
   "metadata": {},
   "outputs": [
    {
     "name": "stdout",
     "output_type": "stream",
     "text": [
      "637.4340924536608\n",
      "[0]\n",
      "[0, 1, 2, 3, 4, 5, 6, 7, 8, 9, 10, 11, 12, 13, 14, 15, 16, 17, 18, 19, 20, 21, 22, 23, 24, 25, 26, 27, 28, 29, 30, 31, 32, 33, 34, 35, 36, 37, 38, 39, 40, 41, 42, 43, 44, 45, 46, 47, 48, 49]\n",
      "[0, 1]\n",
      "Current city is: Oklahoma_City-OK,  and current distance is 0.0 miles\n",
      "Current city is: Birmingham-AL,     and current distance is 637.4 miles\n",
      "Current city is: Richmond-VA,       and current distance is 1248.9 miles\n",
      "Current city is: Roswell-NM,        and current distance is 2826.4 miles\n",
      "Current city is: New_Haven-CT,      and current distance is 4684.0 miles\n",
      "Current city is: Atlanta-GA,        and current distance is 5536.8 miles\n",
      "Current city is: Boulder-CO,        and current distance is 6789.9 miles\n",
      "Current city is: Cheyenne-WY,       and current distance is 6875.3 miles\n",
      "Current city is: Green_Bay-WI,      and current distance is 7779.2 miles\n",
      "Current city is: San_Francisco-CA,  and current distance is 9655.8 miles\n",
      "Current city is: New_Orleans-LO,    and current distance is 11615.4 miles\n",
      "Current city is: Dover-DE,          and current distance is 12683.1 miles\n",
      "Current city is: Bismarck-ND,       and current distance is 14091.4 miles\n",
      "Current city is: New_York-NY,       and current distance is 15527.5 miles\n",
      "Current city is: Pittsburgh-PA,     and current distance is 15858.3 miles\n",
      "Current city is: Raleigh-NC,        and current distance is 16209.3 miles\n",
      "Current city is: Portland-OR,       and current distance is 18643.7 miles\n",
      "Current city is: Providence-RI,     and current distance is 21253.4 miles\n",
      "Current city is: Augusta-ME,        and current distance is 21405.8 miles\n",
      "Current city is: Miami-FL,          and current distance is 22792.7 miles\n",
      "Current city is: Chicago-IL,        and current distance is 24003.5 miles\n",
      "Current city is: Concord-NH,        and current distance is 24850.6 miles\n",
      "Current city is: St_Paul-MN,        and current distance is 25954.0 miles\n",
      "Current city is: Wichita-KS,        and current distance is 26523.0 miles\n",
      "Current city is: Montpelier-VT,     and current distance is 27914.1 miles\n",
      "Current city is: Las_Vegas-NV,      and current distance is 30253.1 miles\n",
      "Current city is: Ann_Arbor-MI,      and current distance is 32010.9 miles\n",
      "Current city is: Boise-ID,          and current distance is 33688.4 miles\n",
      "Current city is: Los_Angeles-CA,    and current distance is 34384.8 miles\n",
      "Current city is: Rapid_City-SD,     and current distance is 35471.0 miles\n",
      "Current city is: Des_Moines-IA,     and current distance is 36000.8 miles\n",
      "Current city is: Princeton-NJ,      and current distance is 37030.8 miles\n",
      "Current city is: Buffalo-NY,        and current distance is 37341.8 miles\n",
      "Current city is: Jackson-MS,        and current distance is 38323.7 miles\n",
      "Current city is: Austin-TX,         and current distance is 38801.2 miles\n",
      "Current city is: Charleston-WV,     and current distance is 39893.2 miles\n",
      "Current city is: Salt_Lake_City-UT, and current distance is 41528.4 miles\n",
      "Current city is: Little_Rock-AR,    and current distance is 42690.0 miles\n",
      "Current city is: Columbus-OH,       and current distance is 43321.6 miles\n",
      "Current city is: Charleston-SC,     and current distance is 43858.3 miles\n",
      "Current city is: Boston-MA,         and current distance is 44696.7 miles\n",
      "Current city is: Phoenix-AZ,        and current distance is 47039.3 miles\n",
      "Current city is: Helena-MT,         and current distance is 47969.0 miles\n",
      "Current city is: Omaha-NB,          and current distance is 48865.4 miles\n",
      "Current city is: Vancouver-BC,      and current distance is 50323.7 miles\n",
      "Current city is: Knoxville-TN,      and current distance is 52541.9 miles\n",
      "Current city is: Lexington-KY,      and current distance is 52683.2 miles\n",
      "Current city is: Indianapolis-IN,   and current distance is 52843.7 miles\n",
      "Current city is: Washington_DC,     and current distance is 53350.4 miles\n",
      "Current city is: St_Louis-MO,       and current distance is 54083.9 miles\n",
      "Current city is: Baltimore-MD,      and current distance is 54839.1 miles\n",
      "Current city is: Seattle-WA,        and current distance is 57254.5 miles\n",
      "Total distance:                     58831.00543286195\n",
      "Visited all cities!\n",
      "Obama returned to his starting position!\n"
     ]
    }
   ],
   "source": [
    "places = speedy.speedyTrip(places)\n",
    "m.input_trip(places)"
   ]
  },
  {
   "cell_type": "markdown",
   "metadata": {},
   "source": [
    "__(Optional)__ What will you do if some of the routes are blocked? <br>\n",
    "For example: <br>\n",
    "Austin-TX – Miami-FL <br>\n",
    "Washington_DC – Baltimore-MD <br>\n",
    "Ann_Arbor-MI  – St_Louis-MO <br>\n",
    "Vancouver-BC –Raleigh-NC <br>\n",
    "Atlanta-GA – Miami-Fl <br>\n",
    "Improve the speedyTrip() function to avoid these routes, and test it in the code below:"
   ]
  },
  {
   "cell_type": "code",
   "execution_count": null,
   "metadata": {},
   "outputs": [],
   "source": [
    "m.input_trip(places, blocked = True)"
   ]
  }
 ],
 "metadata": {
  "kernelspec": {
   "display_name": "Python 3",
   "language": "python",
   "name": "python3"
  },
  "language_info": {
   "codemirror_mode": {
    "name": "ipython",
    "version": 3
   },
   "file_extension": ".py",
   "mimetype": "text/x-python",
   "name": "python",
   "nbconvert_exporter": "python",
   "pygments_lexer": "ipython3",
   "version": "3.5.4"
  }
 },
 "nbformat": 4,
 "nbformat_minor": 2
}
