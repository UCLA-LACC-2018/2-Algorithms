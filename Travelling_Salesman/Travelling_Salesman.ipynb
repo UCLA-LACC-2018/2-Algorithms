{
 "cells": [
  {
   "cell_type": "markdown",
   "metadata": {},
   "source": [
    "# Travelling Salesman Mini Project\n",
    "\n",
    "In this mini project, we will implement a good algorithm to reduce the cost of Mr.Obama(or some other important person)'s trip."
   ]
  },
  {
   "cell_type": "markdown",
   "metadata": {},
   "source": [
    "Again, first load the modules we'll need."
   ]
  },
  {
   "cell_type": "code",
   "execution_count": 5,
   "metadata": {},
   "outputs": [
    {
     "name": "stdout",
     "output_type": "stream",
     "text": [
      "The autoreload extension is already loaded. To reload it, use:\n",
      "  %reload_ext autoreload\n"
     ]
    }
   ],
   "source": [
    "from tools import *\n",
    "import sys\n",
    "import re\n",
    "import speedy\n",
    "\n",
    "#Reload modules automatically so that we don't need to restart the notebook\n",
    "%load_ext autoreload\n",
    "%autoreload 2"
   ]
  },
  {
   "cell_type": "markdown",
   "metadata": {},
   "source": [
    "Initializations and file loading"
   ]
  },
  {
   "cell_type": "code",
   "execution_count": 6,
   "metadata": {},
   "outputs": [
    {
     "name": "stdout",
     "output_type": "stream",
     "text": [
      "Opening location file usa.loc\n",
      "Finished reading location file\n"
     ]
    }
   ],
   "source": [
    "m = world()\n",
    "# load the map\n",
    "m.read_locations('usa.loc')\n",
    "\n",
    "# locations \n",
    "places = list(m.locations.values())"
   ]
  },
  {
   "cell_type": "markdown",
   "metadata": {},
   "source": [
    "Implement the speedyTrip() function in speedy.py. Then test our algorithms in the code below:"
   ]
  },
  {
   "cell_type": "code",
   "execution_count": 21,
   "metadata": {},
   "outputs": [
    {
     "name": "stdout",
     "output_type": "stream",
     "text": [
      "Current city is: Boulder-CO,        and current distance is 0.0 miles\n",
      "Current city is: Cheyenne-WY,       and current distance is 85.4 miles\n",
      "Current city is: Boston-MA,         and current distance is 1855.4 miles\n",
      "Current city is: Providence-RI,     and current distance is 1909.2 miles\n",
      "Current city is: New_York-NY,       and current distance is 2060.1 miles\n",
      "Current city is: Charleston-SC,     and current distance is 2708.9 miles\n",
      "Current city is: Montpelier-VT,     and current distance is 3614.6 miles\n",
      "Current city is: Phoenix-AZ,        and current distance is 5892.2 miles\n",
      "Current city is: Helena-MT,         and current distance is 6821.9 miles\n",
      "Current city is: Charleston-WV,     and current distance is 8496.9 miles\n",
      "Current city is: Portland-OR,       and current distance is 10691.8 miles\n",
      "Current city is: Little_Rock-AR,    and current distance is 12489.6 miles\n",
      "Current city is: Birmingham-AL,     and current distance is 12818.6 miles\n",
      "Current city is: Las_Vegas-NV,      and current distance is 14457.8 miles\n",
      "Current city is: Los_Angeles-CA,    and current distance is 14693.4 miles\n",
      "Current city is: Baltimore-MD,      and current distance is 17056.7 miles\n",
      "Current city is: Washington_DC,     and current distance is 17093.9 miles\n",
      "Current city is: Green_Bay-WI,      and current distance is 17796.1 miles\n",
      "Current city is: Vancouver-BC,      and current distance is 19531.4 miles\n",
      "Current city is: Knoxville-TN,      and current distance is 21749.6 miles\n",
      "Current city is: Miami-FL,          and current distance is 22505.6 miles\n",
      "Current city is: New_Orleans-LO,    and current distance is 23191.8 miles\n",
      "Current city is: Princeton-NJ,      and current distance is 24342.1 miles\n",
      "Current city is: Roswell-NM,        and current distance is 26099.3 miles\n",
      "Current city is: Raleigh-NC,        and current distance is 27608.7 miles\n",
      "Current city is: Indianapolis-IN,   and current distance is 28120.1 miles\n",
      "Current city is: Boise-ID,          and current distance is 29718.4 miles\n",
      "Current city is: Chicago-IL,        and current distance is 31201.8 miles\n",
      "Current city is: San_Francisco-CA,  and current distance is 33090.3 miles\n",
      "Current city is: Wichita-KS,        and current distance is 34480.7 miles\n",
      "Current city is: Columbus-OH,       and current distance is 35276.2 miles\n",
      "Current city is: Austin-TX,         and current distance is 36364.2 miles\n",
      "Current city is: Augusta-ME,        and current distance is 38168.6 miles\n",
      "Current city is: Lexington-KY,      and current distance is 39029.6 miles\n",
      "Current city is: Salt_Lake_City-UT, and current distance is 40522.9 miles\n",
      "Current city is: St_Louis-MO,       and current distance is 41689.9 miles\n",
      "Current city is: Oklahoma_City-OK,  and current distance is 42159.2 miles\n",
      "Current city is: Jackson-MS,        and current distance is 42645.2 miles\n",
      "Current city is: St_Paul-MN,        and current distance is 43569.0 miles\n",
      "Current city is: Atlanta-GA,        and current distance is 44504.6 miles\n",
      "Current city is: Seattle-WA,        and current distance is 46754.8 miles\n",
      "Current city is: Buffalo-NY,        and current distance is 48959.3 miles\n",
      "Current city is: Pittsburgh-PA,     and current distance is 49137.9 miles\n",
      "Current city is: Ann_Arbor-MI,      and current distance is 49364.7 miles\n",
      "Current city is: Rapid_City-SD,     and current distance is 50377.7 miles\n",
      "Current city is: Omaha-NB,          and current distance is 50800.7 miles\n",
      "Current city is: Bismarck-ND,       and current distance is 51260.5 miles\n",
      "Current city is: Dover-DE,          and current distance is 52668.8 miles\n",
      "Current city is: Concord-NH,        and current distance is 53028.6 miles\n",
      "Current city is: Des_Moines-IA,     and current distance is 54182.3 miles\n",
      "Current city is: Richmond-VA,       and current distance is 55104.3 miles\n",
      "Current city is: New_Haven-CT,      and current distance is 55489.3 miles\n",
      "Total distance:                     55489.2510053145\n",
      "Visited all cities!\n",
      "Obama didn't return to his starting position!\n"
     ]
    }
   ],
   "source": [
    "places = speedy.speedyTrip(places)\n",
    "m.input_trip(places)"
   ]
  },
  {
   "cell_type": "markdown",
   "metadata": {},
   "source": [
    "__(Optional)__ What will you do if some of the routes are blocked? <br>\n",
    "For example: <br>\n",
    "Austin-TX – Miami-FL <br>\n",
    "Washington_DC – Baltimore-MD <br>\n",
    "Ann_Arbor-MI  – St_Louis-MO <br>\n",
    "Vancouver-BC –Raleigh-NC <br>\n",
    "Atlanta-GA – Miami-Fl <br>\n",
    "Improve the speedyTrip() function to avoid these routes, and test it in the code below:"
   ]
  },
  {
   "cell_type": "code",
   "execution_count": null,
   "metadata": {},
   "outputs": [],
   "source": [
    "m.input_trip(places, blocked = True)"
   ]
  }
 ],
 "metadata": {
  "kernelspec": {
   "display_name": "Python 3",
   "language": "python",
   "name": "python3"
  },
  "language_info": {
   "codemirror_mode": {
    "name": "ipython",
    "version": 3
   },
   "file_extension": ".py",
   "mimetype": "text/x-python",
   "name": "python",
   "nbconvert_exporter": "python",
   "pygments_lexer": "ipython3",
   "version": "3.5.4"
  }
 },
 "nbformat": 4,
 "nbformat_minor": 2
}
