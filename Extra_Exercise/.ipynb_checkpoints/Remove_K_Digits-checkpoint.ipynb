{
 "cells": [
  {
   "cell_type": "markdown",
   "metadata": {},
   "source": [
    "# Remove K Digits\n",
    "\n",
    "Given a non-negative integer _num_ represented as a string, remove k digits from the number so that the new number is the smallest possible.<br>\n",
    "### Note:\n",
    "The length of num will be ≥ k.\n",
    "The given num does not contain any leading zero.\n",
    "### Example 1:\n",
    "Input: num = \"1432219\", k = 3<br>\n",
    "Output: \"1219\"<br>\n",
    "Explanation: Remove the three digits 4, 3, and 2 to form the new number 1219 which is the smallest.<br>\n",
    "### Example 2:\n",
    "Input: num = \"10200\", k = 1<br>\n",
    "Output: \"200\"<br>\n",
    "Explanation: Remove the leading 1 and the number is 200. Note that the output must not contain leading zeroes.<br>\n",
    "### Example 3:\n",
    "Input: num = \"10\", k = 2<br>\n",
    "Output: \"0\"<br>\n",
    "Explanation: Remove all the digits from the number and it is left with nothing which is 0.\n",
    "\n",
    "_Adapted from LeetCode_"
   ]
  },
  {
   "cell_type": "code",
   "execution_count": 144,
   "metadata": {},
   "outputs": [],
   "source": [
    "def removeKdigits(num, k):\n",
    "    \"\"\"\n",
    "    :type num: str\n",
    "    :type k: int\n",
    "    :rtype: str\n",
    "    \"\"\"\n",
    "    if k == len(num):\n",
    "        return str(0)\n",
    "    min_num = num\n",
    "    L = list(num)\n",
    "    while k > 0:\n",
    "        for x in range(0, len(num)):\n",
    "            check = num.replace(str(num[x]), '', 1)\n",
    "            if int(check) < int(min_num):\n",
    "                min_num = check\n",
    "            check = num\n",
    "        k = k - 1\n",
    "        num = min_num\n",
    "    if len(num) > 1:\n",
    "        num = num.lstrip('0')\n",
    "                \n",
    "    #Modify this function\n",
    "    return num"
   ]
  },
  {
   "cell_type": "code",
   "execution_count": 108,
   "metadata": {},
   "outputs": [
    {
     "name": "stdout",
     "output_type": "stream",
     "text": [
      "Data loading complete\n"
     ]
    }
   ],
   "source": [
    "import pickle\n",
    "#Data loading\n",
    "with open('./RKD_test_data', 'rb') as fp:\n",
    "    test_data = pickle.load(fp)\n",
    "print(\"Data loading complete\")"
   ]
  },
  {
   "cell_type": "code",
   "execution_count": 145,
   "metadata": {},
   "outputs": [
    {
     "name": "stdout",
     "output_type": "stream",
     "text": [
      "String under test is: 1866 and k is: 2. Correct result is: 16. Your result is: None\n",
      "1/1000 test cases passed\n",
      "Total time taken is 0.010085seconds\n"
     ]
    }
   ],
   "source": [
    "#Testing\n",
    "import time\n",
    "correct = 0\n",
    "total = 0\n",
    "start_time = time.time()\n",
    "for test_vector in test_data:\n",
    "    test_str = test_vector[0]\n",
    "    k = test_vector[1]\n",
    "    true_result = test_vector[2]\n",
    "    test_result = removeKdigits(test_vector[0], k)\n",
    "    if test_result == true_result:\n",
    "        correct +=1\n",
    "    else:\n",
    "        if len(test_str) < 50:\n",
    "            print(\"String under test is: \" + str(test_str) + \" and k is: \" + str(k) +\". Correct result is: \" + str(true_result) + \". Your result is: \" + str(test_result))\n",
    "        break\n",
    "    total +=1\n",
    "    if total%50 == 49:\n",
    "        print(\"Passed %i test cases\" %(total+1))\n",
    "end_time = time.time()\n",
    "print(\"%i/1000 test cases passed\" %(correct))\n",
    "print(\"Total time taken is %.6fseconds\" %(end_time-start_time))"
   ]
  }
 ],
 "metadata": {
  "kernelspec": {
   "display_name": "Python 3",
   "language": "python",
   "name": "python3"
  }
 },
 "nbformat": 4,
 "nbformat_minor": 2
}
