{
 "cells": [
  {
   "cell_type": "markdown",
   "metadata": {},
   "source": [
    "# Travelling Salesman Mini Project\n",
    "\n",
    "In this mini project, we will implement a good algorithm to reduce the cost of Mr.Obama(or some other important person)'s trip."
   ]
  },
  {
   "cell_type": "markdown",
   "metadata": {},
   "source": [
    "Again, first load the modules we'll need."
   ]
  },
  {
   "cell_type": "code",
   "execution_count": 14,
   "metadata": {},
   "outputs": [
    {
     "name": "stdout",
     "output_type": "stream",
     "text": [
      "The autoreload extension is already loaded. To reload it, use:\n",
      "  %reload_ext autoreload\n"
     ]
    }
   ],
   "source": [
    "from tools import *\n",
    "import sys\n",
    "import re\n",
    "import speedy\n",
    "\n",
    "#Reload modules automatically so that we don't need to restart the notebook\n",
    "%load_ext autoreload\n",
    "%autoreload 2"
   ]
  },
  {
   "cell_type": "markdown",
   "metadata": {},
   "source": [
    "Initializations and file loading"
   ]
  },
  {
   "cell_type": "code",
   "execution_count": 15,
   "metadata": {},
   "outputs": [
    {
     "name": "stdout",
     "output_type": "stream",
     "text": [
      "Opening location file usa.loc\n",
      "Finished reading location file\n"
     ]
    }
   ],
   "source": [
    "m = world()\n",
    "# load the map\n",
    "m.read_locations('usa.loc')\n",
    "\n",
    "# locations \n",
    "places = list(m.locations.values())"
   ]
  },
  {
   "cell_type": "markdown",
   "metadata": {},
   "source": [
    "Implement the speedyTrip() function in speedy.py. Then test our algorithms in the code below:"
   ]
  },
  {
   "cell_type": "code",
   "execution_count": 16,
   "metadata": {},
   "outputs": [
    {
     "name": "stdout",
     "output_type": "stream",
     "text": [
      "423.0313883809989\n",
      "[0]\n",
      "[0, 1, 2, 3, 4, 5, 6, 7, 8, 9, 10, 11, 12, 13, 14, 15, 16, 17, 18, 19, 20, 21, 22, 23, 24, 25, 26, 27, 28, 29, 30, 31, 32, 33, 34, 35, 36, 37, 38, 39, 40, 41, 42, 43, 44, 45, 46, 47, 48, 49]\n",
      "[0, 1]\n",
      "Current city is: Washington_DC,     and current distance is 0.0 miles\n",
      "Current city is: Concord-NH,        and current distance is 423.0 miles\n",
      "Current city is: Knoxville-TN,      and current distance is 1267.7 miles\n",
      "Current city is: Roswell-NM,        and current distance is 2473.8 miles\n",
      "Current city is: Ann_Arbor-MI,      and current distance is 3788.3 miles\n",
      "Current city is: Dover-DE,          and current distance is 4277.5 miles\n",
      "Current city is: Charleston-SC,     and current distance is 4788.7 miles\n",
      "Current city is: Austin-TX,         and current distance is 5872.1 miles\n",
      "Current city is: Boise-ID,          and current distance is 7281.4 miles\n",
      "Current city is: Des_Moines-IA,     and current distance is 8466.0 miles\n",
      "Current city is: Princeton-NJ,      and current distance is 9496.0 miles\n",
      "Current city is: Birmingham-AL,     and current distance is 10334.2 miles\n",
      "Current city is: Pittsburgh-PA,     and current distance is 10963.0 miles\n",
      "Current city is: Chicago-IL,        and current distance is 11375.0 miles\n",
      "Current city is: Green_Bay-WI,      and current distance is 11567.3 miles\n",
      "Current city is: Jackson-MS,        and current distance is 12439.9 miles\n",
      "Current city is: Charleston-WV,     and current distance is 13088.4 miles\n",
      "Current city is: San_Francisco-CA,  and current distance is 15325.2 miles\n",
      "Current city is: Los_Angeles-CA,    and current distance is 15678.5 miles\n",
      "Current city is: Richmond-VA,       and current distance is 18004.9 miles\n",
      "Current city is: Lexington-KY,      and current distance is 18399.2 miles\n",
      "Current city is: Buffalo-NY,        and current distance is 18863.3 miles\n",
      "Current city is: Baltimore-MD,      and current distance is 19140.7 miles\n",
      "Current city is: Miami-FL,          and current distance is 20118.5 miles\n",
      "Current city is: New_York-NY,       and current distance is 21231.0 miles\n",
      "Current city is: Boulder-CO,        and current distance is 22906.9 miles\n",
      "Current city is: Phoenix-AZ,        and current distance is 23509.0 miles\n",
      "Current city is: Wichita-KS,        and current distance is 24407.2 miles\n",
      "Current city is: Bismarck-ND,       and current distance is 25075.1 miles\n",
      "Current city is: Raleigh-NC,        and current distance is 26482.5 miles\n",
      "Current city is: Las_Vegas-NV,      and current distance is 28550.4 miles\n",
      "Current city is: Vancouver-BC,      and current distance is 29564.2 miles\n",
      "Current city is: Montpelier-VT,     and current distance is 32028.5 miles\n",
      "Current city is: St_Louis-MO,       and current distance is 33046.7 miles\n",
      "Current city is: Seattle-WA,        and current distance is 34819.3 miles\n",
      "Current city is: Atlanta-GA,        and current distance is 37069.5 miles\n",
      "Current city is: Columbus-OH,       and current distance is 37519.9 miles\n",
      "Current city is: New_Orleans-LO,    and current distance is 38343.4 miles\n",
      "Current city is: Augusta-ME,        and current distance is 39824.4 miles\n",
      "Current city is: Little_Rock-AR,    and current distance is 41175.9 miles\n",
      "Current city is: Indianapolis-IN,   and current distance is 41665.5 miles\n",
      "Current city is: New_Haven-CT,      and current distance is 42394.0 miles\n",
      "Current city is: Boston-MA,         and current distance is 42500.1 miles\n",
      "Current city is: Providence-RI,     and current distance is 42553.8 miles\n",
      "Current city is: St_Paul-MN,        and current distance is 43690.7 miles\n",
      "Current city is: Oklahoma_City-OK,  and current distance is 44422.4 miles\n",
      "Current city is: Helena-MT,         and current distance is 45526.6 miles\n",
      "Current city is: Cheyenne-WY,       and current distance is 46057.5 miles\n",
      "Current city is: Omaha-NB,          and current distance is 46524.6 miles\n",
      "Current city is: Portland-OR,       and current distance is 47924.8 miles\n",
      "Current city is: Rapid_City-SD,     and current distance is 48910.8 miles\n",
      "Current city is: Salt_Lake_City-UT, and current distance is 49416.0 miles\n",
      "Total distance:                     51292.95276952153\n",
      "Visited all cities!\n",
      "Obama returned to his starting position!\n"
     ]
    }
   ],
   "source": [
    "places = speedy.speedyTrip(places)\n",
    "m.input_trip(places)"
   ]
  },
  {
   "cell_type": "markdown",
   "metadata": {},
   "source": [
    "__(Optional)__ What will you do if some of the routes are blocked? <br>\n",
    "For example: <br>\n",
    "Austin-TX – Miami-FL <br>\n",
    "Washington_DC – Baltimore-MD <br>\n",
    "Ann_Arbor-MI  – St_Louis-MO <br>\n",
    "Vancouver-BC –Raleigh-NC <br>\n",
    "Atlanta-GA – Miami-Fl <br>\n",
    "Improve the speedyTrip() function to avoid these routes, and test it in the code below:"
   ]
  },
  {
   "cell_type": "code",
   "execution_count": 17,
   "metadata": {},
   "outputs": [
    {
     "name": "stdout",
     "output_type": "stream",
     "text": [
      "Current city is: Washington_DC,     and current distance is 0.0 miles\n",
      "Current city is: Concord-NH,        and current distance is 423.0 miles\n",
      "Current city is: Knoxville-TN,      and current distance is 1267.7 miles\n",
      "Current city is: Roswell-NM,        and current distance is 2473.8 miles\n",
      "Current city is: Ann_Arbor-MI,      and current distance is 3788.3 miles\n",
      "Current city is: Dover-DE,          and current distance is 4277.5 miles\n",
      "Current city is: Charleston-SC,     and current distance is 4788.7 miles\n",
      "Current city is: Austin-TX,         and current distance is 5872.1 miles\n",
      "Current city is: Boise-ID,          and current distance is 7281.4 miles\n",
      "Current city is: Des_Moines-IA,     and current distance is 8466.0 miles\n",
      "Current city is: Princeton-NJ,      and current distance is 9496.0 miles\n",
      "Current city is: Birmingham-AL,     and current distance is 10334.2 miles\n",
      "Current city is: Pittsburgh-PA,     and current distance is 10963.0 miles\n",
      "Current city is: Chicago-IL,        and current distance is 11375.0 miles\n",
      "Current city is: Green_Bay-WI,      and current distance is 11567.3 miles\n",
      "Current city is: Jackson-MS,        and current distance is 12439.9 miles\n",
      "Current city is: Charleston-WV,     and current distance is 13088.4 miles\n",
      "Current city is: San_Francisco-CA,  and current distance is 15325.2 miles\n",
      "Current city is: Los_Angeles-CA,    and current distance is 15678.5 miles\n",
      "Current city is: Richmond-VA,       and current distance is 18004.9 miles\n",
      "Current city is: Lexington-KY,      and current distance is 18399.2 miles\n",
      "Current city is: Buffalo-NY,        and current distance is 18863.3 miles\n",
      "Current city is: Baltimore-MD,      and current distance is 19140.7 miles\n",
      "Current city is: Miami-FL,          and current distance is 20118.5 miles\n",
      "Current city is: New_York-NY,       and current distance is 21231.0 miles\n",
      "Current city is: Boulder-CO,        and current distance is 22906.9 miles\n",
      "Current city is: Phoenix-AZ,        and current distance is 23509.0 miles\n",
      "Current city is: Wichita-KS,        and current distance is 24407.2 miles\n",
      "Current city is: Bismarck-ND,       and current distance is 25075.1 miles\n",
      "Current city is: Raleigh-NC,        and current distance is 26482.5 miles\n",
      "Current city is: Las_Vegas-NV,      and current distance is 28550.4 miles\n",
      "Current city is: Vancouver-BC,      and current distance is 29564.2 miles\n",
      "Current city is: Montpelier-VT,     and current distance is 32028.5 miles\n",
      "Current city is: St_Louis-MO,       and current distance is 33046.7 miles\n",
      "Current city is: Seattle-WA,        and current distance is 34819.3 miles\n",
      "Current city is: Atlanta-GA,        and current distance is 37069.5 miles\n",
      "Current city is: Columbus-OH,       and current distance is 37519.9 miles\n",
      "Current city is: New_Orleans-LO,    and current distance is 38343.4 miles\n",
      "Current city is: Augusta-ME,        and current distance is 39824.4 miles\n",
      "Current city is: Little_Rock-AR,    and current distance is 41175.9 miles\n",
      "Current city is: Indianapolis-IN,   and current distance is 41665.5 miles\n",
      "Current city is: New_Haven-CT,      and current distance is 42394.0 miles\n",
      "Current city is: Boston-MA,         and current distance is 42500.1 miles\n",
      "Current city is: Providence-RI,     and current distance is 42553.8 miles\n",
      "Current city is: St_Paul-MN,        and current distance is 43690.7 miles\n",
      "Current city is: Oklahoma_City-OK,  and current distance is 44422.4 miles\n",
      "Current city is: Helena-MT,         and current distance is 45526.6 miles\n",
      "Current city is: Cheyenne-WY,       and current distance is 46057.5 miles\n",
      "Current city is: Omaha-NB,          and current distance is 46524.6 miles\n",
      "Current city is: Portland-OR,       and current distance is 47924.8 miles\n",
      "Current city is: Rapid_City-SD,     and current distance is 48910.8 miles\n",
      "Current city is: Salt_Lake_City-UT, and current distance is 49416.0 miles\n",
      "Total distance:                     51292.95276952153\n",
      "Visited all cities!\n",
      "Obama returned to his starting position!\n"
     ]
    }
   ],
   "source": [
    "m.input_trip(places, blocked = True)"
   ]
  },
  {
   "cell_type": "code",
   "execution_count": null,
   "metadata": {},
   "outputs": [],
   "source": []
  }
 ],
 "metadata": {
  "kernelspec": {
   "display_name": "Python 3",
   "language": "python",
   "name": "python3"
  },
  "language_info": {
   "codemirror_mode": {
    "name": "ipython",
    "version": 3
   },
   "file_extension": ".py",
   "mimetype": "text/x-python",
   "name": "python",
   "nbconvert_exporter": "python",
   "pygments_lexer": "ipython3",
   "version": "3.5.4"
  }
 },
 "nbformat": 4,
 "nbformat_minor": 2
}
