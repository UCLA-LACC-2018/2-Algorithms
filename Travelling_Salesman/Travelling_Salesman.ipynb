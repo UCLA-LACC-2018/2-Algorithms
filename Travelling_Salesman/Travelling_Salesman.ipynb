{
 "cells": [
  {
   "cell_type": "markdown",
   "metadata": {},
   "source": [
    "# Travelling Salesman Mini Project\n",
    "\n",
    "In this mini project, we will implement a good algorithm to reduce the cost of Mr.Obama(or some other important person)'s trip."
   ]
  },
  {
   "cell_type": "markdown",
   "metadata": {},
   "source": [
    "Again, first load the modules we'll need."
   ]
  },
  {
   "cell_type": "code",
   "execution_count": 5,
   "metadata": {},
   "outputs": [],
   "source": [
    "from tools import *\n",
    "import sys\n",
    "import re\n",
    "import speedy\n",
    "\n",
    "#Reload modules automatically so that we don't need to restart the notebook\n",
    "%load_ext autoreload\n",
    "%autoreload 2"
   ]
  },
  {
   "cell_type": "markdown",
   "metadata": {},
   "source": [
    "Initializations and file loading"
   ]
  },
  {
   "cell_type": "code",
   "execution_count": 29,
   "metadata": {},
   "outputs": [
    {
     "name": "stdout",
     "output_type": "stream",
     "text": [
      "Opening location file usa.loc\n",
      "Finished reading location file\n"
     ]
    }
   ],
   "source": [
    "m = world()\n",
    "# load the map\n",
    "m.read_locations('usa.loc')\n",
    "\n",
    "# locations \n",
    "places = list(m.locations.values())"
   ]
  },
  {
   "cell_type": "markdown",
   "metadata": {},
   "source": [
    "Implement the speedyTrip() function in speedy.py. Then test our algorithms in the code below:"
   ]
  },
  {
   "cell_type": "code",
   "execution_count": 31,
   "metadata": {
    "scrolled": false
   },
   "outputs": [
    {
     "name": "stdout",
     "output_type": "stream",
     "text": [
      "Columbus-OH 139.5628094363888\n",
      "1635.2030115214714\n",
      "[0]\n",
      "[0, 1, 2, 3, 4, 5, 6, 7, 8, 9, 10, 11, 12, 13, 14, 15, 16, 17, 18, 19, 20, 21, 22, 23, 24, 25, 26, 27, 28, 29, 30, 31, 32, 33, 34, 35, 36, 37, 38, 39, 40, 41, 42, 43, 44, 45, 46, 47, 48, 49, 50]\n",
      "[0, 1]\n",
      "Current city is: Charleston-WV,     and current distance is 0.0 miles\n",
      "Current city is: Chicago-IL,        and current distance is 403.6 miles\n",
      "Current city is: Austin-TX,         and current distance is 1399.3 miles\n",
      "Current city is: Richmond-VA,       and current distance is 2689.1 miles\n",
      "Current city is: Indianapolis-IN,   and current distance is 3197.7 miles\n",
      "Current city is: Buffalo-NY,        and current distance is 3648.4 miles\n",
      "Current city is: St_Paul-MN,        and current distance is 4397.2 miles\n",
      "Current city is: Phoenix-AZ,        and current distance is 5716.4 miles\n",
      "Current city is: St_Louis-MO,       and current distance is 7004.7 miles\n",
      "Current city is: Atlanta-GA,        and current distance is 7493.5 miles\n",
      "Current city is: Boulder-CO,        and current distance is 8746.6 miles\n",
      "Current city is: Baltimore-MD,      and current distance is 10296.7 miles\n",
      "Current city is: Concord-NH,        and current distance is 10682.6 miles\n",
      "Current city is: Montpelier-VT,     and current distance is 10774.8 miles\n",
      "Current city is: Jackson-MS,        and current distance is 12063.0 miles\n",
      "Current city is: Oklahoma_City-OK,  and current distance is 12549.0 miles\n",
      "Current city is: Raleigh-NC,        and current distance is 13633.9 miles\n",
      "Current city is: Seattle-WA,        and current distance is 16077.6 miles\n",
      "Current city is: Columbus-OH,       and current distance is 18155.5 miles\n",
      "Current city is: Pittsburgh-PA,     and current distance is 18320.1 miles\n",
      "Current city is: Charleston-SC,     and current distance is 18864.9 miles\n",
      "Current city is: Boise-ID,          and current distance is 20995.6 miles\n",
      "Current city is: New_Orleans-LO,    and current distance is 22756.2 miles\n",
      "Current city is: Rapid_City-SD,     and current distance is 24002.0 miles\n",
      "Current city is: Omaha-NB,          and current distance is 24425.1 miles\n",
      "Current city is: Las_Vegas-NV,      and current distance is 25532.1 miles\n",
      "Current city is: Boston-MA,         and current distance is 27950.3 miles\n",
      "Current city is: Des_Moines-IA,     and current distance is 29129.7 miles\n",
      "Current city is: Roswell-NM,        and current distance is 29975.4 miles\n",
      "Current city is: Green_Bay-WI,      and current distance is 31174.7 miles\n",
      "Current city is: Augusta-ME,        and current distance is 32079.6 miles\n",
      "Current city is: Lexington-KY,      and current distance is 32940.6 miles\n",
      "Current city is: Knoxville-TN,      and current distance is 33081.9 miles\n",
      "Current city is: Birmingham-AL,     and current distance is 33329.2 miles\n",
      "Current city is: Helena-MT,         and current distance is 34966.5 miles\n",
      "Current city is: Providence-RI,     and current distance is 37040.9 miles\n",
      "Current city is: Dover-DE,          and current distance is 37326.2 miles\n",
      "Current city is: Washington_DC,     and current distance is 37406.8 miles\n",
      "Current city is: Miami-FL,          and current distance is 38350.6 miles\n",
      "Current city is: Princeton-NJ,      and current distance is 39405.1 miles\n",
      "Current city is: Los_Angeles-CA,    and current distance is 41883.4 miles\n",
      "Current city is: Portland-OR,       and current distance is 42736.9 miles\n",
      "Current city is: Little_Rock-AR,    and current distance is 44534.7 miles\n",
      "Current city is: Vancouver-BC,      and current distance is 46433.0 miles\n",
      "Current city is: Cheyenne-WY,       and current distance is 47505.9 miles\n",
      "Current city is: New_York-NY,       and current distance is 49147.0 miles\n",
      "Current city is: Bismarck-ND,       and current distance is 50583.1 miles\n",
      "Current city is: New_Haven-CT,      and current distance is 52046.3 miles\n",
      "Current city is: San_Francisco-CA,  and current distance is 54716.6 miles\n",
      "Current city is: Ann_Arbor-MI,      and current distance is 56811.1 miles\n",
      "Current city is: Wichita-KS,        and current distance is 57610.1 miles\n",
      "Current city is: Salt_Lake_City-UT, and current distance is 58426.7 miles\n",
      "Total distance:                     60061.86434997393\n",
      "Visited all cities!\n",
      "Obama returned to his starting position!\n"
     ]
    },
    {
     "name": "stderr",
     "output_type": "stream",
     "text": [
      "[autoreload of speedy failed: Traceback (most recent call last):\n",
      "  File \"/home/nbuser/anaconda3_420/lib/python3.5/site-packages/IPython/extensions/autoreload.py\", line 246, in check\n",
      "    superreload(m, reload, self.old_objects)\n",
      "  File \"/home/nbuser/anaconda3_420/lib/python3.5/site-packages/IPython/extensions/autoreload.py\", line 369, in superreload\n",
      "    module = reload(module)\n",
      "  File \"/home/nbuser/anaconda3_420/lib/python3.5/imp.py\", line 315, in reload\n",
      "    return importlib.reload(module)\n",
      "  File \"/home/nbuser/anaconda3_420/lib/python3.5/importlib/__init__.py\", line 166, in reload\n",
      "    _bootstrap._exec(spec, module)\n",
      "  File \"<frozen importlib._bootstrap>\", line 626, in _exec\n",
      "  File \"<frozen importlib._bootstrap_external>\", line 693, in exec_module\n",
      "  File \"<frozen importlib._bootstrap_external>\", line 799, in get_code\n",
      "  File \"<frozen importlib._bootstrap_external>\", line 759, in source_to_code\n",
      "  File \"<frozen importlib._bootstrap>\", line 222, in _call_with_frames_removed\n",
      "  File \"/home/nbuser/library/Travelling_Salesman/speedy.py\", line 26\n",
      "    for x :\n",
      "          ^\n",
      "SyntaxError: invalid syntax\n",
      "]\n"
     ]
    }
   ],
   "source": [
    "places = speedy.speedyTrip(places)\n",
    "m.input_trip(places)"
   ]
  },
  {
   "cell_type": "markdown",
   "metadata": {},
   "source": [
    "__(Optional)__ What will you do if some of the routes are blocked? <br>\n",
    "For example: <br>\n",
    "Austin-TX – Miami-FL <br>\n",
    "Washington_DC – Baltimore-MD <br>\n",
    "Ann_Arbor-MI  – St_Louis-MO <br>\n",
    "Vancouver-BC –Raleigh-NC <br>\n",
    "Atlanta-GA – Miami-Fl <br>\n",
    "Improve the speedyTrip() function to avoid these routes, and test it in the code below:"
   ]
  },
  {
   "cell_type": "code",
   "execution_count": 13,
   "metadata": {},
   "outputs": [
    {
     "name": "stdout",
     "output_type": "stream",
     "text": [
      "Current city is: Jackson-MS,        and current distance is 0.0 miles\n",
      "Current city is: Indianapolis-IN,   and current distance is 577.7 miles\n",
      "Current city is: Montpelier-VT,     and current distance is 1359.8 miles\n",
      "Current city is: Columbus-OH,       and current distance is 1987.6 miles\n",
      "Current city is: Charleston-SC,     and current distance is 2524.4 miles\n",
      "Current city is: Boise-ID,          and current distance is 4655.1 miles\n",
      "Current city is: Lexington-KY,      and current distance is 6387.8 miles\n",
      "Current city is: Wichita-KS,        and current distance is 7099.4 miles\n",
      "Current city is: Roswell-NM,        and current distance is 7617.1 miles\n",
      "Current city is: New_York-NY,       and current distance is 9405.6 miles\n",
      "Current city is: Baltimore-MD,      and current distance is 9577.6 miles\n",
      "Current city is: Augusta-ME,        and current distance is 10033.4 miles\n",
      "Current city is: Bismarck-ND,       and current distance is 11571.6 miles\n",
      "Current city is: Green_Bay-WI,      and current distance is 12228.0 miles\n",
      "Current city is: Boulder-CO,        and current distance is 13183.0 miles\n",
      "Current city is: Pittsburgh-PA,     and current distance is 14531.5 miles\n",
      "Current city is: Washington_DC,     and current distance is 14737.3 miles\n",
      "Current city is: Seattle-WA,        and current distance is 17146.4 miles\n",
      "Current city is: Vancouver-BC,      and current distance is 17264.2 miles\n",
      "Current city is: Birmingham-AL,     and current distance is 19462.5 miles\n",
      "Current city is: Portland-OR,       and current distance is 21574.5 miles\n",
      "Current city is: Helena-MT,         and current distance is 22110.1 miles\n",
      "Current city is: New_Orleans-LO,    and current distance is 23797.7 miles\n",
      "Current city is: Providence-RI,     and current distance is 25148.8 miles\n",
      "Current city is: St_Paul-MN,        and current distance is 26285.7 miles\n",
      "Current city is: Chicago-IL,        and current distance is 26651.8 miles\n",
      "Current city is: Boston-MA,         and current distance is 27522.0 miles\n",
      "Current city is: Little_Rock-AR,    and current distance is 28802.6 miles\n",
      "Current city is: Los_Angeles-CA,    and current distance is 30309.7 miles\n",
      "Current city is: New_Haven-CT,      and current distance is 32867.7 miles\n",
      "Current city is: Miami-FL,          and current distance is 34066.3 miles\n",
      "Current city is: Salt_Lake_City-UT, and current distance is 36192.7 miles\n",
      "Current city is: Des_Moines-IA,     and current distance is 37159.5 miles\n",
      "Current city is: Atlanta-GA,        and current distance is 37916.3 miles\n",
      "Current city is: Dover-DE,          and current distance is 38545.8 miles\n",
      "Current city is: Cheyenne-WY,       and current distance is 40123.7 miles\n",
      "Current city is: St_Louis-MO,       and current distance is 40924.9 miles\n",
      "Current city is: Omaha-NB,          and current distance is 41281.7 miles\n",
      "Current city is: Princeton-NJ,      and current distance is 42442.0 miles\n",
      "Current city is: Buffalo-NY,        and current distance is 42752.9 miles\n",
      "Current city is: Raleigh-NC,        and current distance is 43258.3 miles\n",
      "Current city is: Knoxville-TN,      and current distance is 43562.5 miles\n",
      "Current city is: Las_Vegas-NV,      and current distance is 45328.3 miles\n",
      "Current city is: Rapid_City-SD,     and current distance is 46179.9 miles\n",
      "Current city is: Ann_Arbor-MI,      and current distance is 47193.0 miles\n",
      "Current city is: Charleston-WV,     and current distance is 47489.8 miles\n",
      "Current city is: Austin-TX,         and current distance is 48581.9 miles\n",
      "Current city is: Concord-NH,        and current distance is 50312.9 miles\n",
      "Current city is: Richmond-VA,       and current distance is 50827.3 miles\n",
      "Current city is: San_Francisco-CA,  and current distance is 53308.1 miles\n",
      "Current city is: Oklahoma_City-OK,  and current distance is 54714.7 miles\n",
      "Current city is: Phoenix-AZ,        and current distance is 55569.1 miles\n",
      "Total distance:                     56870.23915842801\n",
      "Visited all cities!\n",
      "Obama returned to his starting position!\n"
     ]
    }
   ],
   "source": [
    "m.input_trip(places, blocked = True)"
   ]
  }
 ],
 "metadata": {
  "kernelspec": {
   "display_name": "Python 3",
   "language": "python",
   "name": "python3"
  },
  "language_info": {
   "codemirror_mode": {
    "name": "ipython",
    "version": 3
   },
   "file_extension": ".py",
   "mimetype": "text/x-python",
   "name": "python",
   "nbconvert_exporter": "python",
   "pygments_lexer": "ipython3",
   "version": "3.5.4"
  }
 },
 "nbformat": 4,
 "nbformat_minor": 2
}
