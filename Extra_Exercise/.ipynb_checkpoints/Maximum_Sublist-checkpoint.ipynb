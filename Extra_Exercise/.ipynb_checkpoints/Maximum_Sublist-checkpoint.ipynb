{
 "cells": [
  {
   "cell_type": "markdown",
   "metadata": {},
   "source": [
    "# Maximum Sublist\n",
    "\n",
    "Given an integer list nums, find the contiguous sublist (containing at least one number) which has the largest sum and return its sum.\n",
    "### Example:\n",
    "Input: [-2,1,-3,4,-1,2,1,-5,4]<br>\n",
    "Output: 6<br>\n",
    "Explanation: [4,-1,2,1] has the largest sum = 6.\n",
    "\n",
    "_Adapted from LeetCode_"
   ]
  },
  {
   "cell_type": "code",
   "execution_count": 5,
   "metadata": {},
   "outputs": [],
   "source": [
    "from random import *\n",
    "\n",
    "def maxSubList(nums):\n",
    "    \"\"\"\n",
    "    :type nums: List[int]\n",
    "    :rtype: int\n",
    "    \"\"\"\n",
    "    num_list = [-3, -1, 0, 3, -3, -1, -2, -3]\n",
    "    for n in num_list:\n",
    "        if n < 0:\n",
    "            continue\n",
    "        else:\n",
    "            for l in num_list:\n",
    "                if n >= 0:\n",
    "                    value = num_list[0] + num_list[1]\n",
    "    return 0"
   ]
  },
  {
   "cell_type": "code",
   "execution_count": 6,
   "metadata": {},
   "outputs": [],
   "source": [
    "import pickle\n",
    "\n",
    "with open ('./MS_test_data', 'rb') as fp:\n",
    "    test_data = pickle.load(fp)"
   ]
  },
  {
   "cell_type": "code",
   "execution_count": 8,
   "metadata": {},
   "outputs": [
    {
     "name": "stdout",
     "output_type": "stream",
     "text": [
      "List under test is: [-3, -1, 0, 3, -3, -1, -2, -3]. Correct result is: 3. Your result is: 0\n",
      "0/0 test cases passed\n",
      "Total time taken is 0.008646seconds\n"
     ]
    }
   ],
   "source": [
    "import time\n",
    "correct = 0\n",
    "total = 0\n",
    "start_time = time.time()\n",
    "for test_vector in test_data:\n",
    "    test_list = test_vector[0].copy()\n",
    "    true_result = test_vector[1]\n",
    "    test_result = maxSubList(test_vector[0])\n",
    "    if test_result == true_result:\n",
    "        correct +=1\n",
    "    else:\n",
    "        print(\"List under test is: \" + str(test_list) + \". Correct result is: \" + str(true_result) + \". Your result is: \" + str(test_result))\n",
    "        break\n",
    "    total +=1\n",
    "end_time = time.time()\n",
    "print(\"%i/%i test cases passed\" %(correct, total))\n",
    "print(\"Total time taken is %.6fseconds\" %(end_time-start_time))"
   ]
  }
 ],
 "metadata": {
  "kernelspec": {
   "display_name": "Python 3",
   "language": "python",
   "name": "python3"
  },
  "language_info": {
   "codemirror_mode": {
    "name": "ipython",
    "version": 3
   },
   "file_extension": ".py",
   "mimetype": "text/x-python",
   "name": "python",
   "nbconvert_exporter": "python",
   "pygments_lexer": "ipython3",
   "version": "3.5.4"
  }
 },
 "nbformat": 4,
 "nbformat_minor": 2
}
