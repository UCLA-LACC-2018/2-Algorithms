{
 "cells": [
  {
   "cell_type": "markdown",
   "metadata": {},
   "source": [
    "# Maximum Sublist\n",
    "\n",
    "Given an integer list nums, find the contiguous sublist (containing at least one number) which has the largest sum and return its sum.\n",
    "### Example:\n",
    "Input: [-2,1,-3,4,-1,2,1,-5,4]<br>\n",
    "Output: 6<br>\n",
    "Explanation: [4,-1,2,1] has the largest sum = 6.\n",
    "\n",
    "_Adapted from LeetCode_"
   ]
  },
  {
   "cell_type": "code",
   "execution_count": 79,
   "metadata": {},
   "outputs": [],
   "source": [
    "def maxSubList(nums):\n",
    "    #\"\"\"\n",
    "    #:type nums: List[int]\n",
    "    #:rtype: int\n",
    "    #\"\"\"\n",
    "    #Modify this function\n",
    "    sums = 0\n",
    "    current = 0\n",
    "    for i in nums:\n",
    "        current = max(current + i, 0)\n",
    "        sums = max(sums, current)\n",
    "    return sums"
   ]
  },
  {
   "cell_type": "code",
   "execution_count": 69,
   "metadata": {},
   "outputs": [],
   "source": [
    "import pickle\n",
    "\n",
    "with open ('./MS_test_data', 'rb') as fp:\n",
    "    test_data = pickle.load(fp)"
   ]
  },
  {
   "cell_type": "code",
   "execution_count": 80,
   "metadata": {},
   "outputs": [
    {
     "name": "stdout",
     "output_type": "stream",
     "text": [
      "1000/1000 test cases passed\n",
      "Total time taken is 2.363404seconds\n"
     ]
    }
   ],
   "source": [
    "import time\n",
    "correct = 0\n",
    "total = 0\n",
    "start_time = time.time()\n",
    "for test_vector in test_data:\n",
    "    test_list = test_vector[0].copy()\n",
    "    true_result = test_vector[1]\n",
    "    test_result = maxSubList(test_vector[0])\n",
    "    if test_result == true_result:\n",
    "        correct +=1\n",
    "    else:\n",
    "        print(\"List under test is: \" + str(test_list) + \". Correct result is: \" + str(true_result) + \". Your result is: \" + str(test_result))\n",
    "        break\n",
    "    total +=1\n",
    "end_time = time.time()\n",
    "print(\"%i/%i test cases passed\" %(correct, total))\n",
    "print(\"Total time taken is %.6fseconds\" %(end_time-start_time))"
   ]
  }
 ],
 "metadata": {
  "kernelspec": {
   "display_name": "Python 3",
   "language": "python",
   "name": "python3"
  },
  "language_info": {
   "codemirror_mode": {
    "name": "ipython",
    "version": 3
   },
   "file_extension": ".py",
   "mimetype": "text/x-python",
   "name": "python",
   "nbconvert_exporter": "python",
   "pygments_lexer": "ipython3",
   "version": "3.5.4"
  }
 },
 "nbformat": 4,
 "nbformat_minor": 2
}
